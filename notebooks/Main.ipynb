{
 "cells": [
  {
   "cell_type": "code",
   "execution_count": 1,
   "metadata": {
    "slideshow": {
     "slide_type": "skip"
    }
   },
   "outputs": [],
   "source": [
    "import pandas as pd\n",
    "import numpy as np\n",
    "pd.set_option('display.max_rows', 25)"
   ]
  },
  {
   "cell_type": "markdown",
   "metadata": {
    "slideshow": {
     "slide_type": "slide"
    }
   },
   "source": [
    "<div style=\"margin-left:auto;margin-right:auto;width:70%\">\n",
    "  <h1 style=\"text-align:center\">Designing for Interaction</h1>\n",
    "  <h3 style=\"text-align:center\">Scott Sanderson</h3>\n",
    "  <ul>\n",
    "    <li>GitHub: <a href=\"https://github.com/ssanderson\">@ssanderson</a></li>\n",
    "    <li>Twitter: <a href=\"https://twitter.com/scottbsanderson\">@scottbsanderson</a></li>\n",
    "    <li>Email: ssanderson@quantopian.com</li>      \n",
    "  </ul>\n",
    "</div>"
   ]
  },
  {
   "cell_type": "markdown",
   "metadata": {
    "slideshow": {
     "slide_type": "subslide"
    }
   },
   "source": [
    "> Values are what's important to you. And we all believe that we have the same things that are important to us, because they're important to us, so **of course they're important to you**. But that's not quite the case. \n",
    "> \n",
    "> We always talk about \"the right tool for the job\". When it comes to choosing a software platform, it's not really the right **tool** for the job, it's the right **values** for the job.\n",
    "> - **Bryan Cantrill**: [Platform as a relection of values. Node Summit 2017](https://vimeo.com/230142234)"
   ]
  },
  {
   "cell_type": "markdown",
   "metadata": {
    "slideshow": {
     "slide_type": "slide"
    }
   },
   "source": [
    "**Thesis:** Python library design has unique challenges because Python code is used by communities with **divergent technical values**."
   ]
  },
  {
   "cell_type": "markdown",
   "metadata": {
    "slideshow": {
     "slide_type": "fragment"
    }
   },
   "source": [
    "**Sub-Thesis:** Value divergence is a natural product of different **modes of interaction** users have with code."
   ]
  },
  {
   "cell_type": "markdown",
   "metadata": {
    "slideshow": {
     "slide_type": "fragment"
    }
   },
   "source": [
    "**Sub-Sub-Thesis:** Data science and traditional engineering teams often struggle to collaborate because of this divergence."
   ]
  },
  {
   "cell_type": "markdown",
   "metadata": {
    "slideshow": {
     "slide_type": "subslide"
    }
   },
   "source": [
    "## Goals\n",
    "\n",
    "- Explain how interactive and non-interactive development cultivate different software values.\n",
    "- Identify design decisions that make force tradeoffs between values.\n",
    "- Give advice for structuring code in a way that affords both interactive and non-interactive use."
   ]
  },
  {
   "cell_type": "markdown",
   "metadata": {
    "slideshow": {
     "slide_type": "slide"
    }
   },
   "source": [
    "## About Me\n",
    "\n",
    "- Principal Engineer at Quantopian\n",
    "- Lead team responsible for Backtesting API and (Jupyter-based) Research API.\n",
    "- My day-to-day is mostly API design and \"data infrastructure\".\n",
    "  - Code I commit is mostly \"traditional\" application code...\n",
    "  - ...but I do a lot of exploratory analysis for validating our data."
   ]
  },
  {
   "cell_type": "markdown",
   "metadata": {
    "slideshow": {
     "slide_type": "slide"
    }
   },
   "source": [
    "What makes a piece of software \"well-designed\"?"
   ]
  },
  {
   "cell_type": "markdown",
   "metadata": {
    "slideshow": {
     "slide_type": "subslide"
    }
   },
   "source": [
    "... it depends."
   ]
  },
  {
   "cell_type": "markdown",
   "metadata": {
    "slideshow": {
     "slide_type": "fragment"
    }
   },
   "source": [
    "Okay...on what?"
   ]
  },
  {
   "cell_type": "markdown",
   "metadata": {
    "slideshow": {
     "slide_type": "fragment"
    }
   },
   "source": [
    "...\"context\"."
   ]
  },
  {
   "cell_type": "markdown",
   "metadata": {
    "slideshow": {
     "slide_type": "subslide"
    }
   },
   "source": [
    "### Context - Language Features\n",
    "\n",
    "- Type System\n",
    "- Object Model\n",
    "- Runtime (GC, Concurrency, Compilation)"
   ]
  },
  {
   "cell_type": "markdown",
   "metadata": {
    "slideshow": {
     "slide_type": "subslide"
    }
   },
   "source": [
    "### Context - Ecosystem\n",
    "\n",
    "- Standard Library\n",
    "- Third-Party Packages\n",
    "- Tools (Compilers, Linters, Test Frameworks, Packaging Tools, etc.)\n",
    "- Documentation Standards"
   ]
  },
  {
   "cell_type": "markdown",
   "metadata": {
    "slideshow": {
     "slide_type": "subslide"
    }
   },
   "source": [
    "### Context - Modes of Use\n",
    "\n",
    "- Servers\n",
    "- Command Line Applications\n",
    "- Notebooks\n",
    "- REPLs"
   ]
  },
  {
   "cell_type": "markdown",
   "metadata": {
    "slideshow": {
     "slide_type": "subslide"
    }
   },
   "source": [
    "### Spectrum of Interaction\n",
    "\n",
    "```\n",
    "   REPL     Notebook      Web Service   System Daemon\n",
    "\n",
    "    |-----------|--------------|-------------|\n",
    "\n",
    "Interactive                            Non-Interactive                                     \n",
    "```"
   ]
  },
  {
   "cell_type": "markdown",
   "metadata": {
    "slideshow": {
     "slide_type": "subslide"
    }
   },
   "source": [
    "### Interactive Development\n",
    "\n",
    "- Most development independent of previously-written code.\n",
    "- Author, end-user, and operator often the same.\n",
    "- Results are \"directly visible\" to the user.\n",
    "- Few authors.\n",
    "- Often don't know ahead of time what you're building."
   ]
  },
  {
   "cell_type": "markdown",
   "metadata": {
    "slideshow": {
     "slide_type": "subslide"
    }
   },
   "source": [
    "### Application Development\n",
    "\n",
    "- Most development modifies existing work.\n",
    "- Author, end-user, and operator usually not the same.\n",
    "- Results are not directly visible.\n",
    "- Many authors.\n",
    "- Generally know ahead of time what you're building."
   ]
  },
  {
   "cell_type": "markdown",
   "metadata": {
    "slideshow": {
     "slide_type": "subslide"
    }
   },
   "source": [
    "### What I Care About When I'm Building an Application\n",
    "\n",
    "#### Maintainability\n",
    "  - How easily can I change the application **and be confident that the change is correct**?\n",
    "  - How confident am I that other developers can change my code without breaking it?"
   ]
  },
  {
   "cell_type": "markdown",
   "metadata": {
    "slideshow": {
     "slide_type": "subslide"
    }
   },
   "source": [
    "#### Testability\n",
    "\n",
    "- Can I easily test individual components of the application in isolation?\n",
    "- Can I run the application without access to production systems? Without access to the internet?\n",
    "- How long does it take to comprehensively test the application?"
   ]
  },
  {
   "cell_type": "markdown",
   "metadata": {
    "slideshow": {
     "slide_type": "subslide"
    }
   },
   "source": [
    "#### Modularity\n",
    "\n",
    "- How easily can I replace components of the application?\n",
    "- How easily can I re-use components of the application in new contexts?"
   ]
  },
  {
   "cell_type": "markdown",
   "metadata": {
    "slideshow": {
     "slide_type": "subslide"
    }
   },
   "source": [
    "#### Robustness\n",
    "- How well does the application handle unexpected or erroneous inputs?\n",
    "- How well does the application **detect** unexpected or erroneous inputs?\n"
   ]
  },
  {
   "cell_type": "markdown",
   "metadata": {
    "slideshow": {
     "slide_type": "subslide"
    }
   },
   "source": [
    "#### Operability\n",
    "- How easy is it to deploy or upgrade the application?\n",
    "- How easy is it for a non-expert to detect and recover from failures?"
   ]
  },
  {
   "cell_type": "markdown",
   "metadata": {
    "slideshow": {
     "slide_type": "subslide"
    }
   },
   "source": [
    "#### Performance\n",
    "- How fast does the application solve the problems that it aims to solve?\n",
    "- Does the application effectively use the resources available to it?\n",
    "- How quickly does the application start?"
   ]
  },
  {
   "cell_type": "markdown",
   "metadata": {
    "slideshow": {
     "slide_type": "slide"
    }
   },
   "source": [
    "### What I Care About When I'm Working Interactively\n",
    "\n",
    "#### Ergonomics\n",
    "- How easy is it for me to physically type the code necessary to solve my problem?\n",
    "- Does the library work well with tools like auto-completers to help me express ideas quickly?"
   ]
  },
  {
   "cell_type": "markdown",
   "metadata": {
    "slideshow": {
     "slide_type": "subslide"
    }
   },
   "source": [
    "#### Discoverability\n",
    "- How easily can I find the things I need?\n",
    "- How easily can I learn how to use the things I need?\n",
    "- Can I do the above without disrupting my train of thought?"
   ]
  },
  {
   "cell_type": "markdown",
   "metadata": {
    "slideshow": {
     "slide_type": "subslide"
    }
   },
   "source": [
    "#### Flexibility\n",
    "- How easy is it to use the tool in different ways as new problems arise?\n",
    "- How easily can I use parts of the tool without requiring access to all of it?"
   ]
  },
  {
   "cell_type": "markdown",
   "metadata": {
    "slideshow": {
     "slide_type": "subslide"
    }
   },
   "source": [
    "#### Intuitiveness\n",
    "- Does the library's model of its domain match my mental model?\n",
    "- Does the library respond to my inputs in the way that I expect?"
   ]
  },
  {
   "cell_type": "markdown",
   "metadata": {
    "slideshow": {
     "slide_type": "slide"
    }
   },
   "source": [
    "### In Short\n",
    "\n",
    "When I'm working an application, I'm concerned with minimizing the **long-term** cost of **maintaining** and **operating** the application.\n",
    "\n",
    "When I'm working interactively, I'm concerned with **getting ideas out of my brain**  as quickly and with as little friction as posssible."
   ]
  },
  {
   "cell_type": "markdown",
   "metadata": {
    "slideshow": {
     "slide_type": "slide"
    }
   },
   "source": [
    "## Conflicting Values\n",
    "\n",
    "Many design decisions force us to choose between conflicting values."
   ]
  },
  {
   "cell_type": "markdown",
   "metadata": {
    "slideshow": {
     "slide_type": "fragment"
    }
   },
   "source": [
    "Often we make these decisions without thinking carefully about the values we're implicitly prioritizing. "
   ]
  },
  {
   "cell_type": "markdown",
   "metadata": {
    "slideshow": {
     "slide_type": "fragment"
    }
   },
   "source": [
    "This makes it harder to understand why others disagree with us."
   ]
  },
  {
   "cell_type": "markdown",
   "metadata": {
    "slideshow": {
     "slide_type": "subslide"
    }
   },
   "source": [
    "### Example: Optional Arguments\n",
    "\n",
    "Allow you to ignore rarely-needed parameters."
   ]
  },
  {
   "cell_type": "markdown",
   "metadata": {
    "slideshow": {
     "slide_type": "fragment"
    }
   },
   "source": [
    "- Win for **ergonomics** (less typing).\n",
    "- Win for **flexibility** (more options)."
   ]
  },
  {
   "cell_type": "markdown",
   "metadata": {
    "slideshow": {
     "slide_type": "fragment"
    }
   },
   "source": [
    "- Loss for **robustness** (can mask errors).\n",
    "- Loss for **testability** (harder to test all configurations).\n",
    "- Loss for **maintainability** (hard to keep defaults in sync across many functions)"
   ]
  },
  {
   "cell_type": "markdown",
   "metadata": {
    "slideshow": {
     "slide_type": "subslide"
    }
   },
   "source": [
    "### Example: Globally-Visible Configuration\n",
    "\n",
    "Allow you to avoid passing parameters that you're always going to pass."
   ]
  },
  {
   "cell_type": "markdown",
   "metadata": {
    "slideshow": {
     "slide_type": "fragment"
    }
   },
   "source": [
    "- Win for **ergonomics** (less typing)."
   ]
  },
  {
   "cell_type": "markdown",
   "metadata": {
    "slideshow": {
     "slide_type": "fragment"
    }
   },
   "source": [
    "- Loss for **maintainability** (hard to know who depends on what).\n",
    "- Loss for **testability** (requires monkey-patching to test in isolation).\n",
    "- Loss for **modularity** (requires all consumers to have same global context)."
   ]
  },
  {
   "cell_type": "markdown",
   "metadata": {
    "slideshow": {
     "slide_type": "subslide"
    }
   },
   "source": [
    "### Code Example: `get_algo`"
   ]
  },
  {
   "cell_type": "code",
   "execution_count": 2,
   "metadata": {
    "slideshow": {
     "slide_type": "subslide"
    }
   },
   "outputs": [
    {
     "name": "stdout",
     "output_type": "stream",
     "text": [
      "# Original version of a function written for notebook use.\r\n",
      "def get_algo(harness_id,\r\n",
      "             metadata_db=None,\r\n",
      "             results_db=None,\r\n",
      "             session=None,\r\n",
      "             dp=None):\r\n",
      "\r\n",
      "    if metadata_db is None:\r\n",
      "        import config\r\n",
      "        metadata_db = create_engine(config.META_CONF)\r\n",
      "\r\n",
      "    if results_db is None:\r\n",
      "        import config\r\n",
      "        results_db = create_engine(config.RESULT_CONF)\r\n",
      "\r\n",
      "    if session is None:\r\n",
      "        import config\r\n",
      "        session = cassandra_session(config.CASSANDRA_CONFIG)\r\n",
      "\r\n",
      "    if dp is None:\r\n",
      "        dp = make_dataportal()\r\n",
      "\r\n",
      "    return business_logic(harness_id, metadata_db, results_db,\r\n",
      "                          session, dp)\r\n"
     ]
    }
   ],
   "source": [
    "cat get_algo_notebook.py"
   ]
  },
  {
   "cell_type": "code",
   "execution_count": 3,
   "metadata": {
    "slideshow": {
     "slide_type": "subslide"
    }
   },
   "outputs": [
    {
     "name": "stdout",
     "output_type": "stream",
     "text": [
      "# Same function, refactored for use in an application.\r\n",
      "def get_algo(harness_id,\r\n",
      "             data_portal,\r\n",
      "             metadata_reader,\r\n",
      "             backtest_results_reader):\r\n",
      "\r\n",
      "    algo_metadata = metadata_reader.get_metadata(harness_id)\r\n",
      "    backtest_result = backtest_results_reader.get(\r\n",
      "        algo_metadata['remote_id']\r\n",
      "    )\r\n",
      "    return business_logic(algo_metadata, backtest_result)\r\n",
      "\r\n"
     ]
    }
   ],
   "source": [
    "cat get_algo_application.py"
   ]
  },
  {
   "cell_type": "markdown",
   "metadata": {
    "slideshow": {
     "slide_type": "subslide"
    }
   },
   "source": [
    "### Example: Ambiguous Inputs\n",
    "\n",
    "> In the face of ambiguity, refuse the temptation to guess.\n",
    "> - The Zen of Python"
   ]
  },
  {
   "cell_type": "markdown",
   "metadata": {
    "slideshow": {
     "slide_type": "fragment"
    }
   },
   "source": [
    "The temptation to guess becomes **very strong** for code that's used interactively."
   ]
  },
  {
   "cell_type": "markdown",
   "metadata": {
    "slideshow": {
     "slide_type": "subslide"
    }
   },
   "source": [
    "From an interactive user's perspective, it feels pedantic to throw an error on an unexpected input with a \"obvious\" interpretation.\n",
    "\n",
    "> \"C'mon, you **know** what I mean...\"\n",
    "> - Every interactive user"
   ]
  },
  {
   "cell_type": "markdown",
   "metadata": {
    "slideshow": {
     "slide_type": "subslide"
    }
   },
   "source": [
    "### Example: Ambiguous Inputs"
   ]
  },
  {
   "cell_type": "code",
   "execution_count": 4,
   "metadata": {
    "slideshow": {
     "slide_type": "subslide"
    }
   },
   "outputs": [
    {
     "data": {
      "text/html": [
       "<div>\n",
       "<style scoped>\n",
       "    .dataframe tbody tr th:only-of-type {\n",
       "        vertical-align: middle;\n",
       "    }\n",
       "\n",
       "    .dataframe tbody tr th {\n",
       "        vertical-align: top;\n",
       "    }\n",
       "\n",
       "    .dataframe thead th {\n",
       "        text-align: right;\n",
       "    }\n",
       "</style>\n",
       "<table border=\"1\" class=\"dataframe\">\n",
       "  <thead>\n",
       "    <tr style=\"text-align: right;\">\n",
       "      <th></th>\n",
       "      <th>a</th>\n",
       "      <th>b</th>\n",
       "    </tr>\n",
       "  </thead>\n",
       "  <tbody>\n",
       "    <tr>\n",
       "      <th>2014-01-01</th>\n",
       "      <td>a</td>\n",
       "      <td>b</td>\n",
       "    </tr>\n",
       "    <tr>\n",
       "      <th>2014-01-02</th>\n",
       "      <td>a</td>\n",
       "      <td>b</td>\n",
       "    </tr>\n",
       "    <tr>\n",
       "      <th>2014-01-03</th>\n",
       "      <td>a</td>\n",
       "      <td>b</td>\n",
       "    </tr>\n",
       "    <tr>\n",
       "      <th>2014-01-04</th>\n",
       "      <td>a</td>\n",
       "      <td>b</td>\n",
       "    </tr>\n",
       "    <tr>\n",
       "      <th>2014-01-05</th>\n",
       "      <td>a</td>\n",
       "      <td>b</td>\n",
       "    </tr>\n",
       "    <tr>\n",
       "      <th>2014-01-06</th>\n",
       "      <td>a</td>\n",
       "      <td>b</td>\n",
       "    </tr>\n",
       "    <tr>\n",
       "      <th>2014-01-07</th>\n",
       "      <td>a</td>\n",
       "      <td>b</td>\n",
       "    </tr>\n",
       "    <tr>\n",
       "      <th>2014-01-08</th>\n",
       "      <td>a</td>\n",
       "      <td>b</td>\n",
       "    </tr>\n",
       "    <tr>\n",
       "      <th>2014-01-09</th>\n",
       "      <td>a</td>\n",
       "      <td>b</td>\n",
       "    </tr>\n",
       "    <tr>\n",
       "      <th>2014-01-10</th>\n",
       "      <td>a</td>\n",
       "      <td>b</td>\n",
       "    </tr>\n",
       "    <tr>\n",
       "      <th>2014-01-11</th>\n",
       "      <td>a</td>\n",
       "      <td>b</td>\n",
       "    </tr>\n",
       "    <tr>\n",
       "      <th>2014-01-12</th>\n",
       "      <td>a</td>\n",
       "      <td>b</td>\n",
       "    </tr>\n",
       "    <tr>\n",
       "      <th>...</th>\n",
       "      <td>...</td>\n",
       "      <td>...</td>\n",
       "    </tr>\n",
       "    <tr>\n",
       "      <th>2014-12-20</th>\n",
       "      <td>a</td>\n",
       "      <td>b</td>\n",
       "    </tr>\n",
       "    <tr>\n",
       "      <th>2014-12-21</th>\n",
       "      <td>a</td>\n",
       "      <td>b</td>\n",
       "    </tr>\n",
       "    <tr>\n",
       "      <th>2014-12-22</th>\n",
       "      <td>a</td>\n",
       "      <td>b</td>\n",
       "    </tr>\n",
       "    <tr>\n",
       "      <th>2014-12-23</th>\n",
       "      <td>a</td>\n",
       "      <td>b</td>\n",
       "    </tr>\n",
       "    <tr>\n",
       "      <th>2014-12-24</th>\n",
       "      <td>a</td>\n",
       "      <td>b</td>\n",
       "    </tr>\n",
       "    <tr>\n",
       "      <th>2014-12-25</th>\n",
       "      <td>a</td>\n",
       "      <td>b</td>\n",
       "    </tr>\n",
       "    <tr>\n",
       "      <th>2014-12-26</th>\n",
       "      <td>a</td>\n",
       "      <td>b</td>\n",
       "    </tr>\n",
       "    <tr>\n",
       "      <th>2014-12-27</th>\n",
       "      <td>a</td>\n",
       "      <td>b</td>\n",
       "    </tr>\n",
       "    <tr>\n",
       "      <th>2014-12-28</th>\n",
       "      <td>a</td>\n",
       "      <td>b</td>\n",
       "    </tr>\n",
       "    <tr>\n",
       "      <th>2014-12-29</th>\n",
       "      <td>a</td>\n",
       "      <td>b</td>\n",
       "    </tr>\n",
       "    <tr>\n",
       "      <th>2014-12-30</th>\n",
       "      <td>a</td>\n",
       "      <td>b</td>\n",
       "    </tr>\n",
       "    <tr>\n",
       "      <th>2014-12-31</th>\n",
       "      <td>a</td>\n",
       "      <td>b</td>\n",
       "    </tr>\n",
       "  </tbody>\n",
       "</table>\n",
       "<p>365 rows × 2 columns</p>\n",
       "</div>"
      ],
      "text/plain": [
       "            a  b\n",
       "2014-01-01  a  b\n",
       "2014-01-02  a  b\n",
       "2014-01-03  a  b\n",
       "2014-01-04  a  b\n",
       "2014-01-05  a  b\n",
       "2014-01-06  a  b\n",
       "2014-01-07  a  b\n",
       "2014-01-08  a  b\n",
       "2014-01-09  a  b\n",
       "2014-01-10  a  b\n",
       "2014-01-11  a  b\n",
       "2014-01-12  a  b\n",
       "...        .. ..\n",
       "2014-12-20  a  b\n",
       "2014-12-21  a  b\n",
       "2014-12-22  a  b\n",
       "2014-12-23  a  b\n",
       "2014-12-24  a  b\n",
       "2014-12-25  a  b\n",
       "2014-12-26  a  b\n",
       "2014-12-27  a  b\n",
       "2014-12-28  a  b\n",
       "2014-12-29  a  b\n",
       "2014-12-30  a  b\n",
       "2014-12-31  a  b\n",
       "\n",
       "[365 rows x 2 columns]"
      ]
     },
     "execution_count": 4,
     "metadata": {},
     "output_type": "execute_result"
    }
   ],
   "source": [
    "df = pd.DataFrame(index=pd.date_range('2014', '2015'), data={'a': 'a', 'b': 'b'})\n",
    "#df.loc[pd.Timestamp('2014-01-02')]\n",
    "df.loc['2014']"
   ]
  },
  {
   "cell_type": "code",
   "execution_count": 5,
   "metadata": {
    "slideshow": {
     "slide_type": "subslide"
    }
   },
   "outputs": [
    {
     "name": "stdout",
     "output_type": "stream",
     "text": [
      "x           int64\n",
      "x ** 2    float64\n",
      "dtype: object\n"
     ]
    },
    {
     "data": {
      "text/html": [
       "<div>\n",
       "<style scoped>\n",
       "    .dataframe tbody tr th:only-of-type {\n",
       "        vertical-align: middle;\n",
       "    }\n",
       "\n",
       "    .dataframe tbody tr th {\n",
       "        vertical-align: top;\n",
       "    }\n",
       "\n",
       "    .dataframe thead th {\n",
       "        text-align: right;\n",
       "    }\n",
       "</style>\n",
       "<table border=\"1\" class=\"dataframe\">\n",
       "  <thead>\n",
       "    <tr style=\"text-align: right;\">\n",
       "      <th></th>\n",
       "      <th>x</th>\n",
       "      <th>x ** 2</th>\n",
       "    </tr>\n",
       "  </thead>\n",
       "  <tbody>\n",
       "    <tr>\n",
       "      <th>0</th>\n",
       "      <td>0</td>\n",
       "      <td>0.0</td>\n",
       "    </tr>\n",
       "    <tr>\n",
       "      <th>1</th>\n",
       "      <td>1</td>\n",
       "      <td>1.0</td>\n",
       "    </tr>\n",
       "    <tr>\n",
       "      <th>2</th>\n",
       "      <td>2</td>\n",
       "      <td>4.0</td>\n",
       "    </tr>\n",
       "    <tr>\n",
       "      <th>3</th>\n",
       "      <td>3</td>\n",
       "      <td>9.0</td>\n",
       "    </tr>\n",
       "    <tr>\n",
       "      <th>4</th>\n",
       "      <td>4</td>\n",
       "      <td>5.0</td>\n",
       "    </tr>\n",
       "    <tr>\n",
       "      <th>5</th>\n",
       "      <td>5</td>\n",
       "      <td>25.0</td>\n",
       "    </tr>\n",
       "    <tr>\n",
       "      <th>6</th>\n",
       "      <td>6</td>\n",
       "      <td>36.0</td>\n",
       "    </tr>\n",
       "    <tr>\n",
       "      <th>7</th>\n",
       "      <td>7</td>\n",
       "      <td>49.0</td>\n",
       "    </tr>\n",
       "    <tr>\n",
       "      <th>8</th>\n",
       "      <td>8</td>\n",
       "      <td>64.0</td>\n",
       "    </tr>\n",
       "    <tr>\n",
       "      <th>9</th>\n",
       "      <td>9</td>\n",
       "      <td>81.0</td>\n",
       "    </tr>\n",
       "  </tbody>\n",
       "</table>\n",
       "</div>"
      ],
      "text/plain": [
       "   x  x ** 2\n",
       "0  0     0.0\n",
       "1  1     1.0\n",
       "2  2     4.0\n",
       "3  3     9.0\n",
       "4  4     5.0\n",
       "5  5    25.0\n",
       "6  6    36.0\n",
       "7  7    49.0\n",
       "8  8    64.0\n",
       "9  9    81.0"
      ]
     },
     "execution_count": 5,
     "metadata": {},
     "output_type": "execute_result"
    }
   ],
   "source": [
    "df = pd.DataFrame({'x': np.arange(10), 'x ** 2': np.arange(10) ** 2})\n",
    "df.loc[4, 'x ** 2'] = 5.0\n",
    "print(df.dtypes)\n",
    "df"
   ]
  },
  {
   "cell_type": "markdown",
   "metadata": {
    "slideshow": {
     "slide_type": "subslide"
    }
   },
   "source": [
    "![panda.gif](images/panda-large.gif)"
   ]
  },
  {
   "cell_type": "markdown",
   "metadata": {
    "slideshow": {
     "slide_type": "subslide"
    }
   },
   "source": [
    "### Example: Ambiguous Inputs\n",
    "\n",
    "- Win for **ergonomics**. (Often can accept \"shorthands\".)\n",
    "- Win for **intuitiveness**. (Library \"figures out what I meant\".)\n",
    "\n",
    "\n",
    "- Loss for **robustness**. (Can hide bugs)\n",
    "- Loss for **performance**. (Can be expensive to \"figure out what you mean\")\n",
    "- Loss for **operability**. (Makes it harder to provide a clear error)"
   ]
  },
  {
   "cell_type": "markdown",
   "metadata": {
    "slideshow": {
     "slide_type": "subslide"
    }
   },
   "source": [
    "### Other Examples:\n",
    "\n",
    "- Flat vs. nested API surface (flat tends to be more discoverable, but harder to maintain, and can hurt startup time).\n",
    "- Automatic/unbounded caching (convenient for interactive work, dangerous for applications)."
   ]
  },
  {
   "cell_type": "markdown",
   "metadata": {
    "slideshow": {
     "slide_type": "slide"
    }
   },
   "source": [
    "I'm **not** arguing that one set of values is intrinsically better than another. Differences in values are driven by differences in modes of work."
   ]
  },
  {
   "cell_type": "markdown",
   "metadata": {
    "slideshow": {
     "slide_type": "fragment"
    }
   },
   "source": [
    "**Ergonomics** matters more when you're starting from scratch much more often."
   ]
  },
  {
   "cell_type": "markdown",
   "metadata": {
    "slideshow": {
     "slide_type": "fragment"
    }
   },
   "source": [
    "**Robustness** and **Operability** matter less  when your results are immediately visible to you."
   ]
  },
  {
   "cell_type": "markdown",
   "metadata": {
    "slideshow": {
     "slide_type": "fragment"
    }
   },
   "source": [
    "**Testability** matters less when you don't know what you're building yet."
   ]
  },
  {
   "cell_type": "markdown",
   "metadata": {
    "slideshow": {
     "slide_type": "subslide"
    }
   },
   "source": [
    "Most interactively-developed software either stops being used or gets deployed as part of an application.\n",
    "\n",
    "\"Interactive values\" are mostly \"velocity-oriented\". They aim to minimize the cost of exploration and new development.\n",
    "\n",
    "\"Non-interactive values\" are mostly \"production-oriented\". They aim to minimize the total cost of development over the long run."
   ]
  },
  {
   "cell_type": "markdown",
   "metadata": {
    "slideshow": {
     "slide_type": "subslide"
    }
   },
   "source": [
    "For software that stops being used, it makes sense to optimize for velocity-oriented values."
   ]
  },
  {
   "cell_type": "markdown",
   "metadata": {
    "slideshow": {
     "slide_type": "fragment"
    }
   },
   "source": [
    "For software that's used for a long time, it makes sense to optimize for production-oriented values."
   ]
  },
  {
   "cell_type": "markdown",
   "metadata": {
    "slideshow": {
     "slide_type": "fragment"
    }
   },
   "source": [
    "**Problem:** It's hard to tell which is which ahead of time."
   ]
  },
  {
   "cell_type": "markdown",
   "metadata": {
    "slideshow": {
     "slide_type": "slide"
    }
   },
   "source": [
    "## (Partial) Solution:\n",
    "\n",
    "![shrek.jpg](images/shrek.jpg)"
   ]
  },
  {
   "cell_type": "markdown",
   "metadata": {
    "slideshow": {
     "slide_type": "subslide"
    }
   },
   "source": [
    "- Build a \"core\" layer optimized for production-oriented values.\n",
    "- Build a thin interactive-friendly layer in terms of the core layer.\n",
    "- When it comes time to convert from notebook to application, only the interactive layer needs to change."
   ]
  },
  {
   "cell_type": "markdown",
   "metadata": {
    "slideshow": {
     "slide_type": "fragment"
    }
   },
   "source": [
    "```\n",
    "|----Notebooks-----------|\n",
    "|----Interactive Layer---------||-------Application Layer------|\n",
    "|-----------------------Core Layer-----------------------------|\n",
    "```"
   ]
  },
  {
   "cell_type": "markdown",
   "metadata": {
    "slideshow": {
     "slide_type": "subslide"
    }
   },
   "source": [
    "This pattern has applications at different scales of code organization."
   ]
  },
  {
   "cell_type": "markdown",
   "metadata": {
    "slideshow": {
     "slide_type": "subslide"
    }
   },
   "source": [
    "### Libraries\n",
    "\n",
    "- `h5py` has a \"high-level\" API built on top of an explicit low-level API.\n",
    "- `trio` and `cryptography` have \"hazmat\" modules that export low-level primitives.\n",
    "- `zarr` has a `zarr.convenience` module."
   ]
  },
  {
   "cell_type": "markdown",
   "metadata": {
    "slideshow": {
     "slide_type": "subslide"
    }
   },
   "source": [
    "### Classes\n",
    "\n",
    "```python\n",
    "class ComplexObject:\n",
    "\n",
    "    def __init__(self, lots, of, complicated, parameters):\n",
    "        # Initialize class.\n",
    "        \n",
    "    @classmethod\n",
    "    def from_config_file(cls, path):\n",
    "        with open(path) as f:\n",
    "            # Build configuration from file.\n",
    "            return cls(...)\n",
    "```"
   ]
  },
  {
   "cell_type": "markdown",
   "metadata": {
    "slideshow": {
     "slide_type": "subslide"
    }
   },
   "source": [
    "### Functions\n",
    "\n",
    "```python\n",
    "from core_layer import get_algo\n",
    "from interactive_layer import global_interactive_context\n",
    "\n",
    "def get_algo_interactive(harness_id):\n",
    "    return get_algo(\n",
    "        harness_id,\n",
    "        global_interactive_context.data_portal,\n",
    "        global_interactive_context.metadata_reader,\n",
    "        global_interactive_context.backtest_results_reader,\n",
    "    )\n",
    "```"
   ]
  },
  {
   "cell_type": "markdown",
   "metadata": {
    "slideshow": {
     "slide_type": "subslide"
    }
   },
   "source": [
    "### No Silver Bullet\n",
    "\n",
    "- More API surface to maintain.\n",
    "- More work in the short term.\n",
    "  - Might be work you were going to do anyway.\n",
    "- Still hard to test and refactor interactive-friendly layers.\n",
    "  - Probably easier than it was before though..."
   ]
  },
  {
   "cell_type": "markdown",
   "metadata": {
    "slideshow": {
     "slide_type": "slide"
    }
   },
   "source": [
    "### Conclusions and Takeaways\n",
    "\n",
    "If you disagree with the design of a piece of code, try to understand the ways that their **software values** may differ from yours."
   ]
  },
  {
   "cell_type": "markdown",
   "metadata": {
    "slideshow": {
     "slide_type": "fragment"
    }
   },
   "source": [
    "When designing code that will be (eventually) used in an application, consider the implications of your decisions for **maintainability**, **testability**, **modularity**, and **robustness**."
   ]
  },
  {
   "cell_type": "markdown",
   "metadata": {
    "slideshow": {
     "slide_type": "fragment"
    }
   },
   "source": [
    "When designing code that might be used interactively, consider the implications of your decisions for **ergonomics**, **discoverability**, and **flexibility**."
   ]
  },
  {
   "cell_type": "markdown",
   "metadata": {
    "slideshow": {
     "slide_type": "subslide"
    }
   },
   "source": [
    "### Conclusions and Takeaways\n",
    "\n",
    "When faced with tradeoffs between divergent values, considering separating your code into **layers** that can cater to different **modes of usage**."
   ]
  },
  {
   "cell_type": "markdown",
   "metadata": {
    "slideshow": {
     "slide_type": "fragment"
    }
   },
   "source": [
    "- Organize modules into \"core\" and \"convenience\" layers.\n",
    "- Consider adding convenient \"smart constructors\" as classmethods of objects.\n",
    "- Write helper functions that make common patterns more ergonomic."
   ]
  },
  {
   "cell_type": "markdown",
   "metadata": {
    "slideshow": {
     "slide_type": "slide"
    }
   },
   "source": [
    "# Questions?\n",
    "\n",
    "- Slides: [https://github.com/ssanderson/jupytercon-2018](https://github.com/ssanderson/jupytercon-2018)\n",
    "- GitHub: [@ssanderson](https://github.com/ssanderson)\n",
    "- Twitter: [@scottbsanderson](https://twitter.com/scottbsanderson)\n",
    "- Email: ssanderson@quantopian.com"
   ]
  }
 ],
 "metadata": {
  "celltoolbar": "Slideshow",
  "kernelspec": {
   "display_name": "Python 3",
   "language": "python",
   "name": "python3"
  },
  "language_info": {
   "codemirror_mode": {
    "name": "ipython",
    "version": 3
   },
   "file_extension": ".py",
   "mimetype": "text/x-python",
   "name": "python",
   "nbconvert_exporter": "python",
   "pygments_lexer": "ipython3",
   "version": "3.6.5"
  },
  "rise": {
   "theme": "simple"
  }
 },
 "nbformat": 4,
 "nbformat_minor": 2
}
